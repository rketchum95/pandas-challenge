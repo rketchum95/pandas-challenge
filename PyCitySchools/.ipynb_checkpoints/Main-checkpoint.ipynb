{
 "cells": [
  {
   "cell_type": "code",
   "execution_count": 1,
   "metadata": {},
   "outputs": [],
   "source": [
    "# dependencies\n",
    "\n",
    "import pandas as pd\n",
    "import numpy as np\n",
    "import csv\n"
   ]
  },
  {
   "cell_type": "code",
   "execution_count": 2,
   "metadata": {},
   "outputs": [
    {
     "data": {
      "text/plain": [
       "(15, 5)"
      ]
     },
     "execution_count": 2,
     "metadata": {},
     "output_type": "execute_result"
    }
   ],
   "source": [
    "csv_schools_path = \"Resources/schools_complete.csv\"\n",
    "csv_students_path =\"Resources/students_complete.csv\"\n",
    "\n",
    "schools_complete_df = pd.read_csv(csv_schools_path)\n",
    "students_complete_df = pd.read_csv(csv_students_path)\n",
    "schools_complete_df.shape"
   ]
  },
  {
   "cell_type": "code",
   "execution_count": 3,
   "metadata": {},
   "outputs": [],
   "source": [
    "#clean up school dataframe:\n",
    "schools_complete_df=schools_complete_df.drop('School ID',axis=1)\n",
    "schools_clean_df = schools_complete_df.sort_values(by=['school_name'])\n",
    "schools_clean_df = schools_clean_df.set_index('school_name')\n",
    "\n",
    "#Rename column header for consistency\n",
    "students_clean_df = students_complete_df.rename(columns={'Student ID': 'student_id'})"
   ]
  },
  {
   "cell_type": "code",
   "execution_count": 44,
   "metadata": {},
   "outputs": [
    {
     "data": {
      "text/html": [
       "<div>\n",
       "<style scoped>\n",
       "    .dataframe tbody tr th:only-of-type {\n",
       "        vertical-align: middle;\n",
       "    }\n",
       "\n",
       "    .dataframe tbody tr th {\n",
       "        vertical-align: top;\n",
       "    }\n",
       "\n",
       "    .dataframe thead th {\n",
       "        text-align: right;\n",
       "    }\n",
       "</style>\n",
       "<table border=\"1\" class=\"dataframe\">\n",
       "  <thead>\n",
       "    <tr style=\"text-align: right;\">\n",
       "      <th></th>\n",
       "      <th>school_name</th>\n",
       "      <th>type</th>\n",
       "      <th>size</th>\n",
       "      <th>budget</th>\n",
       "      <th>student_id</th>\n",
       "      <th>student_name</th>\n",
       "      <th>gender</th>\n",
       "      <th>grade</th>\n",
       "      <th>reading_score</th>\n",
       "      <th>math_score</th>\n",
       "    </tr>\n",
       "  </thead>\n",
       "  <tbody>\n",
       "    <tr>\n",
       "      <th>0</th>\n",
       "      <td>Bailey High School</td>\n",
       "      <td>District</td>\n",
       "      <td>4976</td>\n",
       "      <td>3124928</td>\n",
       "      <td>17871</td>\n",
       "      <td>Blake Martin</td>\n",
       "      <td>M</td>\n",
       "      <td>9th</td>\n",
       "      <td>75</td>\n",
       "      <td>59</td>\n",
       "    </tr>\n",
       "    <tr>\n",
       "      <th>1</th>\n",
       "      <td>Bailey High School</td>\n",
       "      <td>District</td>\n",
       "      <td>4976</td>\n",
       "      <td>3124928</td>\n",
       "      <td>17872</td>\n",
       "      <td>Kathryn Kane</td>\n",
       "      <td>F</td>\n",
       "      <td>12th</td>\n",
       "      <td>84</td>\n",
       "      <td>58</td>\n",
       "    </tr>\n",
       "    <tr>\n",
       "      <th>2</th>\n",
       "      <td>Bailey High School</td>\n",
       "      <td>District</td>\n",
       "      <td>4976</td>\n",
       "      <td>3124928</td>\n",
       "      <td>17873</td>\n",
       "      <td>Richard Haas</td>\n",
       "      <td>M</td>\n",
       "      <td>11th</td>\n",
       "      <td>79</td>\n",
       "      <td>86</td>\n",
       "    </tr>\n",
       "    <tr>\n",
       "      <th>3</th>\n",
       "      <td>Bailey High School</td>\n",
       "      <td>District</td>\n",
       "      <td>4976</td>\n",
       "      <td>3124928</td>\n",
       "      <td>17874</td>\n",
       "      <td>Frank Marsh</td>\n",
       "      <td>M</td>\n",
       "      <td>9th</td>\n",
       "      <td>71</td>\n",
       "      <td>89</td>\n",
       "    </tr>\n",
       "    <tr>\n",
       "      <th>4</th>\n",
       "      <td>Bailey High School</td>\n",
       "      <td>District</td>\n",
       "      <td>4976</td>\n",
       "      <td>3124928</td>\n",
       "      <td>17875</td>\n",
       "      <td>Charles Goodman Jr.</td>\n",
       "      <td>M</td>\n",
       "      <td>9th</td>\n",
       "      <td>90</td>\n",
       "      <td>61</td>\n",
       "    </tr>\n",
       "  </tbody>\n",
       "</table>\n",
       "</div>"
      ],
      "text/plain": [
       "          school_name      type  size   budget  student_id  \\\n",
       "0  Bailey High School  District  4976  3124928       17871   \n",
       "1  Bailey High School  District  4976  3124928       17872   \n",
       "2  Bailey High School  District  4976  3124928       17873   \n",
       "3  Bailey High School  District  4976  3124928       17874   \n",
       "4  Bailey High School  District  4976  3124928       17875   \n",
       "\n",
       "          student_name gender grade  reading_score  math_score  \n",
       "0         Blake Martin      M   9th             75          59  \n",
       "1         Kathryn Kane      F  12th             84          58  \n",
       "2         Richard Haas      M  11th             79          86  \n",
       "3          Frank Marsh      M   9th             71          89  \n",
       "4  Charles Goodman Jr.      M   9th             90          61  "
      ]
     },
     "execution_count": 44,
     "metadata": {},
     "output_type": "execute_result"
    }
   ],
   "source": [
    "#Merge both csv files\n",
    "pycityschools_df = pd.merge(schools_clean_df,students_clean_df,on=\"school_name\")\n",
    "pycityschools_df.head()"
   ]
  },
  {
   "cell_type": "code",
   "execution_count": 5,
   "metadata": {},
   "outputs": [],
   "source": [
    "#Calculate number of schools:\n",
    "school_count = len(pycityschools_df.school_name.unique())\n",
    "\n",
    "#Calculate number of students \n",
    "    #used student_id to ensure no duplication of names\n",
    "student_count = len(pycityschools_df.student_id.unique())\n",
    "\n",
    "\n",
    "#Calculate total budget using original school csv file:\n",
    "#school_budget=schools_clean_df.budget.unique()\n",
    "total_budget = schools_clean_df.budget.sum(axis=0)\n",
    "\n",
    "#Caculate ave scores for math and reading\n",
    "ave_math_score = round(pycityschools_df.math_score.mean(),2)\n",
    "ave_reading_score = round(pycityschools_df.reading_score.mean(),2)\n"
   ]
  },
  {
   "cell_type": "code",
   "execution_count": 54,
   "metadata": {},
   "outputs": [
    {
     "data": {
      "text/plain": [
       "25528"
      ]
     },
     "execution_count": 54,
     "metadata": {},
     "output_type": "execute_result"
    }
   ],
   "source": [
    "#Pass/Fail determination for Math:\n",
    "#pycityschools_df['math_pass_fail'] = pycityschools_df['math_score'].apply(lambda x:'P' if x>=70 else 'F')\n",
    "\n",
    "#Pass/Fail determination for Reading:\n",
    "#pycityschools_df['reading_pass_fail'] = pycityschools_df['reading_score'].apply(lambda x:'P' if x>=70 else 'F')\n",
    "\n",
    "#Overall Pass/Fail determination - must pass math & reading\n",
    "overall_pass_df = pycityschools_df.set_index(\"math_pass_fail\")\n",
    "overall_pass_list = len(overall_pass_df.loc[\"P\",\"reading_pass_fail\"])\n",
    "\n",
    "#Count of students passing math:\n",
    "math_pass_list= pycityschools_df.loc[pycityschools_df['math_score']>=70]['math_score'].count()\n",
    "percentage_pass_math = round((math_pass_list/student_count*100),2)\n",
    "\n",
    "#Count of students passing reading:\n",
    "reading_pass_list = pycityschools_df.loc[pycityschools_df['reading_score']>=70]['reading_score'].count()\n",
    "percentage_pass_reading = round((reading_pass_list/student_count*100),2)\n",
    "\n",
    "#Count of overll passing - must pass both reading & math:\n",
    "overall_pass_list = pycityschools_df[(pycityschools_df['math_score']>=70) & (pycityschools_df['reading_score']>=70)]['student_id'].count()\n",
    "percentage_pass_overall = round((overall_pass_list/student_count*100),2)\n",
    "overall_pass_list"
   ]
  },
  {
   "cell_type": "code",
   "execution_count": 55,
   "metadata": {},
   "outputs": [
    {
     "data": {
      "text/html": [
       "<div>\n",
       "<style scoped>\n",
       "    .dataframe tbody tr th:only-of-type {\n",
       "        vertical-align: middle;\n",
       "    }\n",
       "\n",
       "    .dataframe tbody tr th {\n",
       "        vertical-align: top;\n",
       "    }\n",
       "\n",
       "    .dataframe thead th {\n",
       "        text-align: right;\n",
       "    }\n",
       "</style>\n",
       "<table border=\"1\" class=\"dataframe\">\n",
       "  <thead>\n",
       "    <tr style=\"text-align: right;\">\n",
       "      <th></th>\n",
       "      <th>Total Schools</th>\n",
       "      <th>Total Students</th>\n",
       "      <th>Total Budget</th>\n",
       "      <th>Ave Math Score</th>\n",
       "      <th>Ave Reading Score</th>\n",
       "      <th>% Passing Math</th>\n",
       "      <th>% Passing Reading</th>\n",
       "      <th>% Overall Passing</th>\n",
       "    </tr>\n",
       "  </thead>\n",
       "  <tbody>\n",
       "    <tr>\n",
       "      <th>0</th>\n",
       "      <td>15</td>\n",
       "      <td>39170</td>\n",
       "      <td>24649428</td>\n",
       "      <td>78.99</td>\n",
       "      <td>81.88</td>\n",
       "      <td>74.98</td>\n",
       "      <td>85.81</td>\n",
       "      <td>65.17</td>\n",
       "    </tr>\n",
       "  </tbody>\n",
       "</table>\n",
       "</div>"
      ],
      "text/plain": [
       "   Total Schools  Total Students  Total Budget  Ave Math Score  \\\n",
       "0             15           39170      24649428           78.99   \n",
       "\n",
       "   Ave Reading Score  % Passing Math  % Passing Reading  % Overall Passing  \n",
       "0              81.88           74.98              85.81              65.17  "
      ]
     },
     "execution_count": 55,
     "metadata": {},
     "output_type": "execute_result"
    }
   ],
   "source": [
    "#Key metrics table - district level\n",
    "district_data =[{'Total Schools':school_count,'Total Students': student_count,'Total Budget': total_budget, \\\n",
    "                 'Ave Math Score':ave_math_score,'Ave Reading Score':ave_reading_score,'% Passing Math':percentage_pass_math,\\\n",
    "                 '% Passing Reading':percentage_pass_reading,'% Overall Passing': percentage_pass_overall}]\n",
    "data_district_summary_df=pd.DataFrame(district_data)\n",
    "data_district_summary_df"
   ]
  },
  {
   "cell_type": "code",
   "execution_count": null,
   "metadata": {},
   "outputs": [],
   "source": [
    "#Start school level dataset:"
   ]
  },
  {
   "cell_type": "code",
   "execution_count": 34,
   "metadata": {},
   "outputs": [
    {
     "ename": "TypeError",
     "evalue": "'>=' not supported between instances of 'SeriesGroupBy' and 'int'",
     "output_type": "error",
     "traceback": [
      "\u001b[1;31m---------------------------------------------------------------------------\u001b[0m",
      "\u001b[1;31mTypeError\u001b[0m                                 Traceback (most recent call last)",
      "\u001b[1;32m<ipython-input-34-418539c61646>\u001b[0m in \u001b[0;36m<module>\u001b[1;34m\u001b[0m\n\u001b[0;32m      7\u001b[0m \u001b[0mschool_ave_reading\u001b[0m\u001b[1;33m=\u001b[0m\u001b[0mround\u001b[0m\u001b[1;33m(\u001b[0m\u001b[0mschool_data_df\u001b[0m\u001b[1;33m[\u001b[0m\u001b[1;34m'reading_score'\u001b[0m\u001b[1;33m]\u001b[0m\u001b[1;33m.\u001b[0m\u001b[0mmean\u001b[0m\u001b[1;33m(\u001b[0m\u001b[1;33m)\u001b[0m\u001b[1;33m,\u001b[0m\u001b[1;36m2\u001b[0m\u001b[1;33m)\u001b[0m\u001b[1;33m\u001b[0m\u001b[1;33m\u001b[0m\u001b[0m\n\u001b[0;32m      8\u001b[0m \u001b[1;33m\u001b[0m\u001b[0m\n\u001b[1;32m----> 9\u001b[1;33m \u001b[0mschool_pass_math_count\u001b[0m\u001b[1;33m=\u001b[0m\u001b[0mlen\u001b[0m\u001b[1;33m(\u001b[0m\u001b[0mschool_data_df\u001b[0m\u001b[1;33m[\u001b[0m\u001b[0mschool_data_df\u001b[0m\u001b[1;33m[\u001b[0m\u001b[1;34m\"math_score\"\u001b[0m\u001b[1;33m]\u001b[0m\u001b[1;33m>=\u001b[0m\u001b[1;36m70\u001b[0m\u001b[1;33m]\u001b[0m\u001b[1;33m)\u001b[0m\u001b[1;33m\u001b[0m\u001b[1;33m\u001b[0m\u001b[0m\n\u001b[0m\u001b[0;32m     10\u001b[0m \u001b[0mschool_pass_math_count\u001b[0m\u001b[1;33m\u001b[0m\u001b[1;33m\u001b[0m\u001b[0m\n\u001b[0;32m     11\u001b[0m \u001b[1;33m\u001b[0m\u001b[0m\n",
      "\u001b[1;31mTypeError\u001b[0m: '>=' not supported between instances of 'SeriesGroupBy' and 'int'"
     ]
    }
   ],
   "source": [
    "school_data_df = pycityschools_df.set_index('school_name').groupby(['school_name'])\n",
    "school_type=school_data_df['type'].first()\n",
    "school_student=school_data_df['student_id'].count()\n",
    "school_budget=school_data_df['budget'].first()\n",
    "student_budget=school_budget/school_student\n",
    "school_ave_math=round(school_data_df['math_score'].mean(),2)\n",
    "school_ave_reading=round(school_data_df['reading_score'].mean(),2)\n",
    "\n",
    "school_pass_math_count=len(school_data_df[school_data_df[\"math_score\"]>=70])\n",
    "school_pass_math_count\n",
    "\n"
   ]
  },
  {
   "cell_type": "code",
   "execution_count": null,
   "metadata": {},
   "outputs": [],
   "source": [
    "#calculations by schools:\n",
    "\n"
   ]
  }
 ],
 "metadata": {
  "kernelspec": {
   "display_name": "Python 3",
   "language": "python",
   "name": "python3"
  },
  "language_info": {
   "codemirror_mode": {
    "name": "ipython",
    "version": 3
   },
   "file_extension": ".py",
   "mimetype": "text/x-python",
   "name": "python",
   "nbconvert_exporter": "python",
   "pygments_lexer": "ipython3",
   "version": "3.8.5"
  }
 },
 "nbformat": 4,
 "nbformat_minor": 4
}
